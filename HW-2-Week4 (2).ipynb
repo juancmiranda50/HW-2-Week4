{
 "cells": [
  {
   "cell_type": "markdown",
   "id": "0e5ac5a1",
   "metadata": {},
   "source": [
    "# My Jupyter Notebook on IBM Watson Studio"
   ]
  },
  {
   "cell_type": "markdown",
   "id": "ae0455e0",
   "metadata": {},
   "source": [
    "<b>Juan Miranda</b>  \n",
    "Student"
   ]
  },
  {
   "cell_type": "markdown",
   "id": "31378830",
   "metadata": {},
   "source": [
    " <i>I am interested in data science because it will help me solve problems.</i>"
   ]
  },
  {
   "cell_type": "markdown",
   "id": "8f092a06",
   "metadata": {},
   "source": [
    "### The program calculates the sum of 1 + 1."
   ]
  },
  {
   "cell_type": "code",
   "execution_count": 1,
   "id": "5cfee7c1",
   "metadata": {},
   "outputs": [
    {
     "data": {
      "text/plain": [
       "2"
      ]
     },
     "execution_count": 1,
     "metadata": {},
     "output_type": "execute_result"
    }
   ],
   "source": [
    "1+1"
   ]
  },
  {
   "cell_type": "markdown",
   "id": "ed066834",
   "metadata": {},
   "source": [
    "1. Uno\n",
    "2. Dos\n",
    "   * Twenty-one\n",
    "   * Twenty-two\n",
    "3. Tres\n",
    "[this is a link to mlb](https://www.mlb.com/)"
   ]
  },
  {
   "cell_type": "code",
   "execution_count": null,
   "id": "f9c581ad",
   "metadata": {},
   "outputs": [],
   "source": []
  }
 ],
 "metadata": {
  "kernelspec": {
   "display_name": "Python 3 (ipykernel)",
   "language": "python",
   "name": "python3"
  },
  "language_info": {
   "codemirror_mode": {
    "name": "ipython",
    "version": 3
   },
   "file_extension": ".py",
   "mimetype": "text/x-python",
   "name": "python",
   "nbconvert_exporter": "python",
   "pygments_lexer": "ipython3",
   "version": "3.9.13"
  }
 },
 "nbformat": 4,
 "nbformat_minor": 5
}
